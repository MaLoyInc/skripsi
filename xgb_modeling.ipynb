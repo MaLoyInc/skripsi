{
 "cells": [
  {
   "cell_type": "code",
   "execution_count": 21,
   "id": "856f6e2c",
   "metadata": {},
   "outputs": [],
   "source": [
    "import pandas as pd\n",
    "import joblib\n",
    "\n",
    "# Pemilihan model\n",
    "from sklearn.model_selection import train_test_split\n",
    "\n",
    "# Metrics\n",
    "from sklearn.metrics import confusion_matrix"
   ]
  },
  {
   "cell_type": "code",
   "execution_count": 22,
   "id": "860bf93a",
   "metadata": {},
   "outputs": [
    {
     "data": {
      "text/html": [
       "<div>\n",
       "<style scoped>\n",
       "    .dataframe tbody tr th:only-of-type {\n",
       "        vertical-align: middle;\n",
       "    }\n",
       "\n",
       "    .dataframe tbody tr th {\n",
       "        vertical-align: top;\n",
       "    }\n",
       "\n",
       "    .dataframe thead th {\n",
       "        text-align: right;\n",
       "    }\n",
       "</style>\n",
       "<table border=\"1\" class=\"dataframe\">\n",
       "  <thead>\n",
       "    <tr style=\"text-align: right;\">\n",
       "      <th></th>\n",
       "      <th>category</th>\n",
       "      <th>amt</th>\n",
       "      <th>gender</th>\n",
       "      <th>street</th>\n",
       "      <th>city</th>\n",
       "      <th>state</th>\n",
       "      <th>zip</th>\n",
       "      <th>city_pop</th>\n",
       "      <th>job</th>\n",
       "      <th>is_fraud</th>\n",
       "      <th>age</th>\n",
       "      <th>day_of_week</th>\n",
       "      <th>transaction_min</th>\n",
       "      <th>transaction_hour</th>\n",
       "      <th>transaction_date</th>\n",
       "      <th>transaction_month</th>\n",
       "      <th>transaction_distance</th>\n",
       "    </tr>\n",
       "  </thead>\n",
       "  <tbody>\n",
       "    <tr>\n",
       "      <th>0</th>\n",
       "      <td>Personal Care</td>\n",
       "      <td>2.86</td>\n",
       "      <td>Male</td>\n",
       "      <td>351 Darlene Green</td>\n",
       "      <td>Columbia</td>\n",
       "      <td>South Carolina</td>\n",
       "      <td>29209</td>\n",
       "      <td>333497</td>\n",
       "      <td>Mechanical engineer</td>\n",
       "      <td>0</td>\n",
       "      <td>52</td>\n",
       "      <td>Sunday</td>\n",
       "      <td>14</td>\n",
       "      <td>12</td>\n",
       "      <td>21</td>\n",
       "      <td>6</td>\n",
       "      <td>24.561462</td>\n",
       "    </tr>\n",
       "    <tr>\n",
       "      <th>1</th>\n",
       "      <td>Personal Care</td>\n",
       "      <td>29.84</td>\n",
       "      <td>Female</td>\n",
       "      <td>3638 Marsh Union</td>\n",
       "      <td>Altonah</td>\n",
       "      <td>Utah</td>\n",
       "      <td>84002</td>\n",
       "      <td>302</td>\n",
       "      <td>Sales professional, IT</td>\n",
       "      <td>0</td>\n",
       "      <td>30</td>\n",
       "      <td>Sunday</td>\n",
       "      <td>14</td>\n",
       "      <td>12</td>\n",
       "      <td>21</td>\n",
       "      <td>6</td>\n",
       "      <td>104.925092</td>\n",
       "    </tr>\n",
       "    <tr>\n",
       "      <th>2</th>\n",
       "      <td>Health Fitness</td>\n",
       "      <td>41.28</td>\n",
       "      <td>Female</td>\n",
       "      <td>9333 Valentine Point</td>\n",
       "      <td>Bellmore</td>\n",
       "      <td>New York</td>\n",
       "      <td>11710</td>\n",
       "      <td>34496</td>\n",
       "      <td>Librarian, public</td>\n",
       "      <td>0</td>\n",
       "      <td>50</td>\n",
       "      <td>Sunday</td>\n",
       "      <td>14</td>\n",
       "      <td>12</td>\n",
       "      <td>21</td>\n",
       "      <td>6</td>\n",
       "      <td>59.080078</td>\n",
       "    </tr>\n",
       "    <tr>\n",
       "      <th>3</th>\n",
       "      <td>Misc Pos</td>\n",
       "      <td>60.05</td>\n",
       "      <td>Male</td>\n",
       "      <td>32941 Krystal Mill Apt. 552</td>\n",
       "      <td>Titusville</td>\n",
       "      <td>Florida</td>\n",
       "      <td>32780</td>\n",
       "      <td>54767</td>\n",
       "      <td>Set designer</td>\n",
       "      <td>0</td>\n",
       "      <td>33</td>\n",
       "      <td>Sunday</td>\n",
       "      <td>15</td>\n",
       "      <td>12</td>\n",
       "      <td>21</td>\n",
       "      <td>6</td>\n",
       "      <td>27.698567</td>\n",
       "    </tr>\n",
       "    <tr>\n",
       "      <th>4</th>\n",
       "      <td>Travel</td>\n",
       "      <td>3.19</td>\n",
       "      <td>Male</td>\n",
       "      <td>5783 Evan Roads Apt. 465</td>\n",
       "      <td>Falmouth</td>\n",
       "      <td>Michigan</td>\n",
       "      <td>49632</td>\n",
       "      <td>1126</td>\n",
       "      <td>Furniture designer</td>\n",
       "      <td>0</td>\n",
       "      <td>65</td>\n",
       "      <td>Sunday</td>\n",
       "      <td>15</td>\n",
       "      <td>12</td>\n",
       "      <td>21</td>\n",
       "      <td>6</td>\n",
       "      <td>104.335106</td>\n",
       "    </tr>\n",
       "  </tbody>\n",
       "</table>\n",
       "</div>"
      ],
      "text/plain": [
       "         category    amt  gender                       street        city  \\\n",
       "0   Personal Care   2.86    Male            351 Darlene Green    Columbia   \n",
       "1   Personal Care  29.84  Female             3638 Marsh Union     Altonah   \n",
       "2  Health Fitness  41.28  Female         9333 Valentine Point    Bellmore   \n",
       "3        Misc Pos  60.05    Male  32941 Krystal Mill Apt. 552  Titusville   \n",
       "4          Travel   3.19    Male     5783 Evan Roads Apt. 465    Falmouth   \n",
       "\n",
       "            state    zip  city_pop                     job  is_fraud  age  \\\n",
       "0  South Carolina  29209    333497     Mechanical engineer         0   52   \n",
       "1            Utah  84002       302  Sales professional, IT         0   30   \n",
       "2        New York  11710     34496       Librarian, public         0   50   \n",
       "3         Florida  32780     54767            Set designer         0   33   \n",
       "4        Michigan  49632      1126      Furniture designer         0   65   \n",
       "\n",
       "  day_of_week  transaction_min  transaction_hour  transaction_date  \\\n",
       "0      Sunday               14                12                21   \n",
       "1      Sunday               14                12                21   \n",
       "2      Sunday               14                12                21   \n",
       "3      Sunday               15                12                21   \n",
       "4      Sunday               15                12                21   \n",
       "\n",
       "   transaction_month  transaction_distance  \n",
       "0                  6             24.561462  \n",
       "1                  6            104.925092  \n",
       "2                  6             59.080078  \n",
       "3                  6             27.698567  \n",
       "4                  6            104.335106  "
      ]
     },
     "execution_count": 22,
     "metadata": {},
     "output_type": "execute_result"
    }
   ],
   "source": [
    "df= pd.read_csv('Clean Dataset/fraudTest_dataset_cleaned.csv')\n",
    "\n",
    "df.head()"
   ]
  },
  {
   "cell_type": "code",
   "execution_count": 23,
   "id": "d648818f",
   "metadata": {},
   "outputs": [],
   "source": [
    "# Membagi data menjadi X dan y\n",
    "X = df.drop(\"is_fraud\", axis = 1)\n",
    "y = df[\"is_fraud\"]"
   ]
  },
  {
   "cell_type": "code",
   "execution_count": 24,
   "id": "d8049627",
   "metadata": {},
   "outputs": [
    {
     "data": {
      "text/plain": [
       "Index(['category', 'gender', 'street', 'city', 'state', 'job', 'day_of_week'], dtype='object')"
      ]
     },
     "execution_count": 24,
     "metadata": {},
     "output_type": "execute_result"
    }
   ],
   "source": [
    "# Memeriksa tipe data object\n",
    "df.select_dtypes(include='object').columns"
   ]
  },
  {
   "cell_type": "code",
   "execution_count": 25,
   "id": "a40bbb6f",
   "metadata": {},
   "outputs": [],
   "source": [
    "# Memfilter kolom kategoris\n",
    "categorical_cols = [\"category\", \"gender\",\"street\", \"city\", \"state\", \"job\", \"day_of_week\"]"
   ]
  },
  {
   "cell_type": "code",
   "execution_count": 26,
   "id": "b05f7b6f",
   "metadata": {},
   "outputs": [
    {
     "data": {
      "text/plain": [
       "(((444575, 16), (444575,)), ((111144, 16), (111144,)))"
      ]
     },
     "execution_count": 26,
     "metadata": {},
     "output_type": "execute_result"
    }
   ],
   "source": [
    "# Membagi data menjadi train dan test\n",
    "X_train, X_test, y_train, y_test = train_test_split(X, y, test_size = 0.2, random_state = 101)\n",
    "(X_train.shape, y_train.shape), (X_test.shape, y_test.shape)"
   ]
  },
  {
   "cell_type": "code",
   "execution_count": 27,
   "id": "b18e8ae2",
   "metadata": {},
   "outputs": [],
   "source": [
    "# Load encoder dan transform data\n",
    "encoder = joblib.load(\"ordinal_encoder.pkl\")\n",
    "X_test[categorical_cols] = encoder.transform(X_test[categorical_cols])"
   ]
  },
  {
   "cell_type": "code",
   "execution_count": 28,
   "id": "21f92030",
   "metadata": {},
   "outputs": [],
   "source": [
    "# Load scaler dan transform data\n",
    "scaler = joblib.load(\"fraud_scaler.pkl\")\n",
    "X_test_scaled = scaler.transform(X_test)"
   ]
  },
  {
   "cell_type": "code",
   "execution_count": 29,
   "id": "f6807fb2",
   "metadata": {},
   "outputs": [],
   "source": [
    "# Load model XGBoost yang sudah dilatih\n",
    "model = joblib.load(\"xgboost_fraud_model.pkl\")"
   ]
  },
  {
   "cell_type": "code",
   "execution_count": 30,
   "id": "3a4f08f7",
   "metadata": {},
   "outputs": [
    {
     "name": "stdout",
     "output_type": "stream",
     "text": [
      "=== PREDIKSI MODEL PADA DATA TESTING ===\n",
      "\n",
      "Total transaksi di data testing       : 111144\n",
      "Total transaksi fraud (aktual)        : 437\n",
      "✅ Fraud berhasil ditangkap (TP)      : 428\n",
      "❌ Fraud yang terlewatkan (FN)        : 9\n",
      "🎯 Akurasi deteksi fraud              : 428/437 (97.94%)\n",
      "--------------------------------------------------\n"
     ]
    }
   ],
   "source": [
    "# === PREDIKSI DAN EVALUASI MODEL ===\n",
    "print(\"=== PREDIKSI MODEL PADA DATA TESTING ===\\n\")\n",
    "\n",
    "# Prediksi\n",
    "y_pred = model.predict(X_test_scaled)\n",
    "\n",
    "# Evaluasi\n",
    "TN, FP, FN, TP = confusion_matrix(y_test, y_pred).ravel()\n",
    "total_test = len(y_test)\n",
    "total_fraud = sum(y_test)\n",
    "\n",
    "print(f\"Total transaksi di data testing       : {total_test}\")\n",
    "print(f\"Total transaksi fraud (aktual)        : {total_fraud}\")\n",
    "print(f\"✅ Fraud berhasil ditangkap (TP)      : {TP}\")\n",
    "print(f\"❌ Fraud yang terlewatkan (FN)        : {FN}\")\n",
    "print(f\"🎯 Akurasi deteksi fraud              : {TP}/{total_fraud} ({(TP/total_fraud)*100:.2f}%)\")\n",
    "print(\"-\" * 50)"
   ]
  },
  {
   "cell_type": "code",
   "execution_count": 31,
   "id": "c7be9a20",
   "metadata": {},
   "outputs": [
    {
     "name": "stdout",
     "output_type": "stream",
     "text": [
      "\n",
      "INSTALLED VERSIONS\n",
      "------------------\n",
      "commit                : 0691c5cf90477d3503834d983f69350f250a6ff7\n",
      "python                : 3.11.9\n",
      "python-bits           : 64\n",
      "OS                    : Windows\n",
      "OS-release            : 10\n",
      "Version               : 10.0.26100\n",
      "machine               : AMD64\n",
      "processor             : Intel64 Family 6 Model 140 Stepping 1, GenuineIntel\n",
      "byteorder             : little\n",
      "LC_ALL                : None\n",
      "LANG                  : None\n",
      "LOCALE                : English_Indonesia.1252\n",
      "\n",
      "pandas                : 2.2.3\n",
      "numpy                 : 2.1.3\n",
      "pytz                  : 2025.2\n",
      "dateutil              : 2.9.0.post0\n",
      "pip                   : 25.0.1\n",
      "Cython                : None\n",
      "sphinx                : None\n",
      "IPython               : 9.1.0\n",
      "adbc-driver-postgresql: None\n",
      "adbc-driver-sqlite    : None\n",
      "bs4                   : None\n",
      "blosc                 : None\n",
      "bottleneck            : None\n",
      "dataframe-api-compat  : None\n",
      "fastparquet           : None\n",
      "fsspec                : None\n",
      "html5lib              : None\n",
      "hypothesis            : None\n",
      "gcsfs                 : None\n",
      "jinja2                : 3.1.6\n",
      "lxml.etree            : None\n",
      "matplotlib            : 3.10.1\n",
      "numba                 : None\n",
      "numexpr               : None\n",
      "odfpy                 : None\n",
      "openpyxl              : None\n",
      "pandas_gbq            : None\n",
      "psycopg2              : None\n",
      "pymysql               : None\n",
      "pyarrow               : 19.0.1\n",
      "pyreadstat            : None\n",
      "pytest                : None\n",
      "python-calamine       : None\n",
      "pyxlsb                : None\n",
      "s3fs                  : None\n",
      "scipy                 : 1.15.2\n",
      "sqlalchemy            : None\n",
      "tables                : None\n",
      "tabulate              : None\n",
      "xarray                : None\n",
      "xlrd                  : None\n",
      "xlsxwriter            : None\n",
      "zstandard             : None\n",
      "tzdata                : 2025.2\n",
      "qtpy                  : None\n",
      "pyqt5                 : None\n"
     ]
    }
   ],
   "source": [
    "pd.show_versions()"
   ]
  }
 ],
 "metadata": {
  "kernelspec": {
   "display_name": "Python 3",
   "language": "python",
   "name": "python3"
  },
  "language_info": {
   "codemirror_mode": {
    "name": "ipython",
    "version": 3
   },
   "file_extension": ".py",
   "mimetype": "text/x-python",
   "name": "python",
   "nbconvert_exporter": "python",
   "pygments_lexer": "ipython3",
   "version": "3.11.9"
  }
 },
 "nbformat": 4,
 "nbformat_minor": 5
}
